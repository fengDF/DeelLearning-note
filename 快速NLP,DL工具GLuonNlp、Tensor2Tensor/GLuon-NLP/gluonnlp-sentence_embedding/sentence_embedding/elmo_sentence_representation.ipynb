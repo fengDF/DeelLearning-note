{
 "cells": [
  {
   "cell_type": "markdown",
   "metadata": {},
   "source": [
    "# Extract Sentence Features with Pre-trained ELMo\n",
    "\n",
    "While word-embeddings have been shown to capture syntactic and semantic information of words and have become a standard component in many state-of-the-art NLP architectures, their context-free nature limits their ability to represent context-dependent information.\n",
    "Peters et. al. proposed a deep contextualized word representation method, called Embeddings from Language Models, or ELMo [1].\n",
    "This model is pre-trained with a self-supervising task called bidirectional language model, and they show that the representation from this model is powerful and improves the state-of-the-art on many tasks such as question-answering, natural language inference, semantic role labeling, coreference resolution, named-entity recognition, and sentiment analysis.\n",
    "\n",
    "In this notebook, we show how to use the model API in GluonNLP to automatically download pre-trained ELMo model, and generate sentence representation with this model.\n",
    "We will focus on:\n",
    "\n",
    "1) how to process and transform data to be used with pre-trained ELMo model, and\n",
    "2) how to load the pretrained ELMo model, and use it to extract representation from preprocessed data.\n",
    "\n",
    "## Preparation\n",
    "\n",
    "We start with some usual preparation such as importing libraries and setting the environment.\n",
    "\n",
    "### Load MXNet and GluonNLP"
   ]
  },
  {
   "cell_type": "code",
   "execution_count": 1,
   "metadata": {},
   "outputs": [],
   "source": [
    "import warnings\n",
    "warnings.filterwarnings('ignore')\n",
    "import numpy as np\n",
    "import io\n",
    "\n",
    "import mxnet as mx\n",
    "from mxnet import gluon\n",
    "import gluonnlp as nlp"
   ]
  },
  {
   "cell_type": "markdown",
   "metadata": {},
   "source": [
    "## Preprocess Data\n",
    "\n",
    "The goal of preprocessing the data is to numericalize the text using the preprocessing steps that are consistent with training ELMo model.\n",
    "The exact same vocabulary needs to be used so that the indices in model embedding matches the pre-trained model.\n",
    "We will proceed with the following steps:\n",
    "\n",
    "1) Load a custom dataset.\n",
    "2) Tokenize the dataset in the same way as training ELMo.\n",
    "3) Numericalize the tokens on both words and characters using the provided vocab.\n",
    "\n",
    "### Create Dataset\n",
    "\n",
    "The first step is to create a dataset from existing data.\n",
    "Here, we use a paragraph from [1] as our dataset, using the built-in [TextLineDataset](../../api/modules/data.rst#gluonnlp.data.TextLineDataset) class.\n",
    "It's a dataset of 7 samples, each being a sentence."
   ]
  },
  {
   "cell_type": "code",
   "execution_count": 2,
   "metadata": {},
   "outputs": [
    {
     "name": "stdout",
     "output_type": "stream",
     "text": [
      "7\n",
      "We first show that they can be easily added to existing models for six diverse and challenging language understanding problems, including textual entailment, question answering and sentiment analysis.\n"
     ]
    }
   ],
   "source": [
    "elmo_intro = \"\"\"\n",
    "Extensive experiments demonstrate that ELMo representations work extremely well in practice.\n",
    "We first show that they can be easily added to existing models for six diverse and challenging language understanding problems, including textual entailment, question answering and sentiment analysis.\n",
    "The addition of ELMo representations alone significantly improves the state of the art in every case, including up to 20% relative error reductions.\n",
    "For tasks where direct comparisons are possible, ELMo outperforms CoVe (McCann et al., 2017), which computes contextualized representations using a neural machine translation encoder.\n",
    "Finally, an analysis of both ELMo and CoVe reveals that deep representations outperform those derived from just the top layer of an LSTM.\n",
    "Our trained models and code are publicly available, and we expect that ELMo will provide similar gains for many other NLP problems.\n",
    "\"\"\"\n",
    "\n",
    "elmo_intro_file = 'elmo_intro.txt'\n",
    "with io.open(elmo_intro_file, 'w', encoding='utf8') as f:\n",
    "    f.write(elmo_intro)\n",
    "\n",
    "dataset = nlp.data.TextLineDataset(elmo_intro_file, 'utf8')\n",
    "print(len(dataset))\n",
    "print(dataset[2]) # print a sentence"
   ]
  },
  {
   "cell_type": "markdown",
   "metadata": {},
   "source": [
    "### Transform Dataset\n",
    "\n",
    "Once we have the dataset that consists of sentences in raw text form, the next step is to transform\n",
    "the dataset in the same way that ELMo model was trained.\n",
    "In our case, transforming the dataset consists of tokenization and numericalization.\n",
    "\n",
    "#### Tokenization\n",
    "\n",
    "The ELMo pre-trained models are trained on Google 1-Billion Words dataset, which was tokenized with Moses Tokenizer.\n",
    "In GluonNLP, using either [NLTKMosesTokenizer](../../api/modules/data.rst#gluonnlp.data.NLTKMosesTokenizer) or [SacreMosesTokenizer](../../api/modules/data.rst#gluonnlp.data.SacreMosesTokenizer) should do the trick.\n",
    "Once tokenized, we can add markers for beginning and end of sentences."
   ]
  },
  {
   "cell_type": "code",
   "execution_count": 3,
   "metadata": {},
   "outputs": [
    {
     "name": "stdout",
     "output_type": "stream",
     "text": [
      "['<bos>', 'We', 'first', 'show', 'that', 'they', 'can', 'be', 'easily', 'added', 'to', 'existing', 'models', 'for', 'six', 'diverse', 'and', 'challenging', 'language', 'understanding', 'problems', ',', 'including', 'textual', 'entailment', ',', 'question', 'answering', 'and', 'sentiment', 'analysis', '.', '<eos>']\n"
     ]
    }
   ],
   "source": [
    "tokenizer = nlp.data.NLTKMosesTokenizer()\n",
    "dataset = dataset.transform(tokenizer)\n",
    "dataset = dataset.transform(lambda x: ['<bos>'] + x + ['<eos>'])\n",
    "print(dataset[2]) # print the same tokenized sentence"
   ]
  },
  {
   "cell_type": "markdown",
   "metadata": {},
   "source": [
    "#### Using Vocab from Pre-trained ELMo\n",
    "\n",
    "Numericalizing the dataset is as straightforward as using the ELMo-specific character-level\n",
    "vocabulary as transformation. For details on ELMo's vocabulary, see\n",
    "[ELMoCharVocab](../../api/modules/vocab.rst#gluonnlp.vocab.ELMoCharVocab).\n",
    "We also calculate the length of each sentence in preparation for batching."
   ]
  },
  {
   "cell_type": "code",
   "execution_count": 4,
   "metadata": {},
   "outputs": [],
   "source": [
    "vocab = nlp.vocab.ELMoCharVocab()\n",
    "dataset = dataset.transform(lambda x: (vocab[x], len(x)), lazy=False)"
   ]
  },
  {
   "cell_type": "markdown",
   "metadata": {},
   "source": [
    "#### Create Dataloader\n",
    "\n",
    "Now that the dataset is ready, loading it with dataloader is straightforward.\n",
    "Here, we pad the first field to the maximum length, and stack the actual length numbers to form\n",
    "batches.\n",
    "The lengths will be used as mask.\n",
    "For more advanced usage examples of dataloader, check out the\n",
    "[Sentiment Analysis tutorial](../sentiment_analysis/sentiment_analysis.ipynb)."
   ]
  },
  {
   "cell_type": "code",
   "execution_count": 5,
   "metadata": {},
   "outputs": [],
   "source": [
    "batch_size = 2\n",
    "dataset_batchify_fn = nlp.data.batchify.Tuple(nlp.data.batchify.Pad(),\n",
    "                                              nlp.data.batchify.Stack())\n",
    "data_loader = gluon.data.DataLoader(dataset,\n",
    "                                    batch_size=batch_size,\n",
    "                                    batchify_fn=dataset_batchify_fn)"
   ]
  },
  {
   "cell_type": "markdown",
   "metadata": {},
   "source": [
    "## Load Pretrained ELMo Model\n",
    "\n",
    "Using the model API in GluonNLP, you can automatically download the pre-trained models simply by\n",
    "calling get_model. Available options are:\n",
    "\n",
    "1. elmo_2x1024_128_2048cnn_1xhighway\n",
    "2. elmo_2x2048_256_2048cnn_1xhighway\n",
    "3. elmo_2x4096_512_2048cnn_2xhighway\n",
    "\n",
    "Note that the second field in get_model's return value is ELMo's vocabulary.\n",
    "Since we already created an instance of it above, here we simply ignore this field."
   ]
  },
  {
   "cell_type": "code",
   "execution_count": 6,
   "metadata": {},
   "outputs": [
    {
     "name": "stdout",
     "output_type": "stream",
     "text": [
      "ELMoBiLM(\n",
      "  (_elmo_char_encoder): ELMoCharacterEncoder(\n",
      "    (_char_embedding): Embedding(262 -> 16, float32)\n",
      "    (_convolutions): ConvolutionalEncoder(\n",
      "      (_convs): HybridConcurrent(\n",
      "        (0): HybridSequential(\n",
      "          (0): Conv1D(16 -> 32, kernel_size=(1,), stride=(1,))\n",
      "          (1): HybridLambda(<lambda>)\n",
      "          (2): Activation(relu)\n",
      "        )\n",
      "        (1): HybridSequential(\n",
      "          (0): Conv1D(16 -> 32, kernel_size=(2,), stride=(1,))\n",
      "          (1): HybridLambda(<lambda>)\n",
      "          (2): Activation(relu)\n",
      "        )\n",
      "        (2): HybridSequential(\n",
      "          (0): Conv1D(16 -> 64, kernel_size=(3,), stride=(1,))\n",
      "          (1): HybridLambda(<lambda>)\n",
      "          (2): Activation(relu)\n",
      "        )\n",
      "        (3): HybridSequential(\n",
      "          (0): Conv1D(16 -> 128, kernel_size=(4,), stride=(1,))\n",
      "          (1): HybridLambda(<lambda>)\n",
      "          (2): Activation(relu)\n",
      "        )\n",
      "        (4): HybridSequential(\n",
      "          (0): Conv1D(16 -> 256, kernel_size=(5,), stride=(1,))\n",
      "          (1): HybridLambda(<lambda>)\n",
      "          (2): Activation(relu)\n",
      "        )\n",
      "        (5): HybridSequential(\n",
      "          (0): Conv1D(16 -> 512, kernel_size=(6,), stride=(1,))\n",
      "          (1): HybridLambda(<lambda>)\n",
      "          (2): Activation(relu)\n",
      "        )\n",
      "        (6): HybridSequential(\n",
      "          (0): Conv1D(16 -> 1024, kernel_size=(7,), stride=(1,))\n",
      "          (1): HybridLambda(<lambda>)\n",
      "          (2): Activation(relu)\n",
      "        )\n",
      "      )\n",
      "      (_highways): Highway(\n",
      "        (hnet): HybridSequential(\n",
      "          (0): Dense(2048 -> 4096, linear)\n",
      "        )\n",
      "        (_activation): Activation(relu)\n",
      "      )\n",
      "      (_projection): Dense(2048 -> 128, linear)\n",
      "    )\n",
      "  )\n",
      "  (_elmo_lstm): BiLMEncoder(\n",
      "    (forward_layers): HybridSequentialRNNCell(\n",
      "    (0): HybridSequentialRNNCell(\n",
      "      (0): LSTMPCellWithClip(128 -> 4096 -> 128)\n",
      "      )\n",
      "    (1): HybridSequentialRNNCell(\n",
      "      (0): ResidualCell(LSTMPCellWithClip(128 -> 4096 -> 128))\n",
      "      )\n",
      "    )\n",
      "    (backward_layers): HybridSequentialRNNCell(\n",
      "    (0): HybridSequentialRNNCell(\n",
      "      (0): LSTMPCellWithClip(128 -> 4096 -> 128)\n",
      "      )\n",
      "    (1): HybridSequentialRNNCell(\n",
      "      (0): ResidualCell(LSTMPCellWithClip(128 -> 4096 -> 128))\n",
      "      )\n",
      "    )\n",
      "  )\n",
      ")\n"
     ]
    }
   ],
   "source": [
    "elmo_bilm, _ = nlp.model.get_model('elmo_2x1024_128_2048cnn_1xhighway',\n",
    "                                   dataset_name='gbw',\n",
    "                                   pretrained=True,\n",
    "                                   ctx=mx.cpu())\n",
    "print(elmo_bilm)"
   ]
  },
  {
   "cell_type": "markdown",
   "metadata": {},
   "source": [
    "## Putting everything together\n",
    "\n",
    "Finally, now we feed the prepared data batch into the [ELMoBiLM](../../api/modules/model.rst#gluonnlp.model.ELMoBiLM) model."
   ]
  },
  {
   "cell_type": "code",
   "execution_count": 7,
   "metadata": {},
   "outputs": [
    {
     "name": "stdout",
     "output_type": "stream",
     "text": [
      "[(2, 14, 256), (2, 14, 256), (2, 14, 256)]\n"
     ]
    }
   ],
   "source": [
    "def get_features(data, valid_lengths):\n",
    "    length = data.shape[1]\n",
    "    hidden_state = elmo_bilm.begin_state(mx.nd.zeros, batch_size=batch_size)\n",
    "    mask = mx.nd.arange(length).expand_dims(0).broadcast_axes(axis=(0,), size=(batch_size,))\n",
    "    mask = mask < valid_lengths.expand_dims(1).astype('float32')\n",
    "    output, hidden_state = elmo_bilm(data, hidden_state, mask)\n",
    "    return output\n",
    "\n",
    "batch = next(iter(data_loader))\n",
    "features = get_features(*batch)\n",
    "print([x.shape for x in features])"
   ]
  },
  {
   "cell_type": "markdown",
   "metadata": {},
   "source": [
    "## Conclusion\n",
    "\n",
    "In this tutorial, we show how to generate sentence representation from ELMo model.\n",
    "In GluonNLP, this can be done with just a few simple steps: reuse the data transformation from ELMo for preprocessing the data, automatically download the pre-trained model, and feed the transformed data into the model.\n",
    "To see how to plug in the pre-trained models in your own model architecture and use fine-tuning to improve downstream tasks, check our [Sentiment Analysis tutorial](../sentiment_analysis/sentiment_analysis.ipynb).\n",
    "\n",
    "## Reference\n",
    "[1] Peters, Matthew E., et al. \"Deep contextualized word representations.\" NAACL (2018)."
   ]
  }
 ],
 "metadata": {
  "language_info": {
   "name": "python"
  }
 },
 "nbformat": 4,
 "nbformat_minor": 2
}